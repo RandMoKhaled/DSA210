{
  "cells": [
    {
      "cell_type": "markdown",
      "id": "68d518fb",
      "metadata": {
        "id": "68d518fb"
      },
      "source": [
        "#  EDA & Hypothesis Testing on Huda Beauty Shade Inclusivity"
      ]
    },
    {
      "cell_type": "markdown",
      "id": "75160e99",
      "metadata": {
        "id": "75160e99"
      },
      "source": [
        "\n",
        "This notebook analyzes whether Huda Beauty’s complexion product lines (foundations, concealers, skin tints) offer inclusive shade ranges across diverse skin tones, using the Fitzpatrick scale as a basis. We use Exploratory Data Analysis (EDA) and statistical hypothesis testing.\n"
      ]
    },
    {
      "cell_type": "code",
      "execution_count": 1,
      "id": "f34cfc52",
      "metadata": {
        "colab": {
          "base_uri": "https://localhost:8080/",
          "height": 73
        },
        "id": "f34cfc52",
        "outputId": "c6387f7b-6a96-4c1f-8449-9db2a7386c1c"
      },
      "outputs": [
        {
          "output_type": "display_data",
          "data": {
            "text/plain": [
              "<IPython.core.display.HTML object>"
            ],
            "text/html": [
              "\n",
              "     <input type=\"file\" id=\"files-febf8c38-6d78-4e24-b0a2-b96479dceb54\" name=\"files[]\" multiple disabled\n",
              "        style=\"border:none\" />\n",
              "     <output id=\"result-febf8c38-6d78-4e24-b0a2-b96479dceb54\">\n",
              "      Upload widget is only available when the cell has been executed in the\n",
              "      current browser session. Please rerun this cell to enable.\n",
              "      </output>\n",
              "      <script>// Copyright 2017 Google LLC\n",
              "//\n",
              "// Licensed under the Apache License, Version 2.0 (the \"License\");\n",
              "// you may not use this file except in compliance with the License.\n",
              "// You may obtain a copy of the License at\n",
              "//\n",
              "//      http://www.apache.org/licenses/LICENSE-2.0\n",
              "//\n",
              "// Unless required by applicable law or agreed to in writing, software\n",
              "// distributed under the License is distributed on an \"AS IS\" BASIS,\n",
              "// WITHOUT WARRANTIES OR CONDITIONS OF ANY KIND, either express or implied.\n",
              "// See the License for the specific language governing permissions and\n",
              "// limitations under the License.\n",
              "\n",
              "/**\n",
              " * @fileoverview Helpers for google.colab Python module.\n",
              " */\n",
              "(function(scope) {\n",
              "function span(text, styleAttributes = {}) {\n",
              "  const element = document.createElement('span');\n",
              "  element.textContent = text;\n",
              "  for (const key of Object.keys(styleAttributes)) {\n",
              "    element.style[key] = styleAttributes[key];\n",
              "  }\n",
              "  return element;\n",
              "}\n",
              "\n",
              "// Max number of bytes which will be uploaded at a time.\n",
              "const MAX_PAYLOAD_SIZE = 100 * 1024;\n",
              "\n",
              "function _uploadFiles(inputId, outputId) {\n",
              "  const steps = uploadFilesStep(inputId, outputId);\n",
              "  const outputElement = document.getElementById(outputId);\n",
              "  // Cache steps on the outputElement to make it available for the next call\n",
              "  // to uploadFilesContinue from Python.\n",
              "  outputElement.steps = steps;\n",
              "\n",
              "  return _uploadFilesContinue(outputId);\n",
              "}\n",
              "\n",
              "// This is roughly an async generator (not supported in the browser yet),\n",
              "// where there are multiple asynchronous steps and the Python side is going\n",
              "// to poll for completion of each step.\n",
              "// This uses a Promise to block the python side on completion of each step,\n",
              "// then passes the result of the previous step as the input to the next step.\n",
              "function _uploadFilesContinue(outputId) {\n",
              "  const outputElement = document.getElementById(outputId);\n",
              "  const steps = outputElement.steps;\n",
              "\n",
              "  const next = steps.next(outputElement.lastPromiseValue);\n",
              "  return Promise.resolve(next.value.promise).then((value) => {\n",
              "    // Cache the last promise value to make it available to the next\n",
              "    // step of the generator.\n",
              "    outputElement.lastPromiseValue = value;\n",
              "    return next.value.response;\n",
              "  });\n",
              "}\n",
              "\n",
              "/**\n",
              " * Generator function which is called between each async step of the upload\n",
              " * process.\n",
              " * @param {string} inputId Element ID of the input file picker element.\n",
              " * @param {string} outputId Element ID of the output display.\n",
              " * @return {!Iterable<!Object>} Iterable of next steps.\n",
              " */\n",
              "function* uploadFilesStep(inputId, outputId) {\n",
              "  const inputElement = document.getElementById(inputId);\n",
              "  inputElement.disabled = false;\n",
              "\n",
              "  const outputElement = document.getElementById(outputId);\n",
              "  outputElement.innerHTML = '';\n",
              "\n",
              "  const pickedPromise = new Promise((resolve) => {\n",
              "    inputElement.addEventListener('change', (e) => {\n",
              "      resolve(e.target.files);\n",
              "    });\n",
              "  });\n",
              "\n",
              "  const cancel = document.createElement('button');\n",
              "  inputElement.parentElement.appendChild(cancel);\n",
              "  cancel.textContent = 'Cancel upload';\n",
              "  const cancelPromise = new Promise((resolve) => {\n",
              "    cancel.onclick = () => {\n",
              "      resolve(null);\n",
              "    };\n",
              "  });\n",
              "\n",
              "  // Wait for the user to pick the files.\n",
              "  const files = yield {\n",
              "    promise: Promise.race([pickedPromise, cancelPromise]),\n",
              "    response: {\n",
              "      action: 'starting',\n",
              "    }\n",
              "  };\n",
              "\n",
              "  cancel.remove();\n",
              "\n",
              "  // Disable the input element since further picks are not allowed.\n",
              "  inputElement.disabled = true;\n",
              "\n",
              "  if (!files) {\n",
              "    return {\n",
              "      response: {\n",
              "        action: 'complete',\n",
              "      }\n",
              "    };\n",
              "  }\n",
              "\n",
              "  for (const file of files) {\n",
              "    const li = document.createElement('li');\n",
              "    li.append(span(file.name, {fontWeight: 'bold'}));\n",
              "    li.append(span(\n",
              "        `(${file.type || 'n/a'}) - ${file.size} bytes, ` +\n",
              "        `last modified: ${\n",
              "            file.lastModifiedDate ? file.lastModifiedDate.toLocaleDateString() :\n",
              "                                    'n/a'} - `));\n",
              "    const percent = span('0% done');\n",
              "    li.appendChild(percent);\n",
              "\n",
              "    outputElement.appendChild(li);\n",
              "\n",
              "    const fileDataPromise = new Promise((resolve) => {\n",
              "      const reader = new FileReader();\n",
              "      reader.onload = (e) => {\n",
              "        resolve(e.target.result);\n",
              "      };\n",
              "      reader.readAsArrayBuffer(file);\n",
              "    });\n",
              "    // Wait for the data to be ready.\n",
              "    let fileData = yield {\n",
              "      promise: fileDataPromise,\n",
              "      response: {\n",
              "        action: 'continue',\n",
              "      }\n",
              "    };\n",
              "\n",
              "    // Use a chunked sending to avoid message size limits. See b/62115660.\n",
              "    let position = 0;\n",
              "    do {\n",
              "      const length = Math.min(fileData.byteLength - position, MAX_PAYLOAD_SIZE);\n",
              "      const chunk = new Uint8Array(fileData, position, length);\n",
              "      position += length;\n",
              "\n",
              "      const base64 = btoa(String.fromCharCode.apply(null, chunk));\n",
              "      yield {\n",
              "        response: {\n",
              "          action: 'append',\n",
              "          file: file.name,\n",
              "          data: base64,\n",
              "        },\n",
              "      };\n",
              "\n",
              "      let percentDone = fileData.byteLength === 0 ?\n",
              "          100 :\n",
              "          Math.round((position / fileData.byteLength) * 100);\n",
              "      percent.textContent = `${percentDone}% done`;\n",
              "\n",
              "    } while (position < fileData.byteLength);\n",
              "  }\n",
              "\n",
              "  // All done.\n",
              "  yield {\n",
              "    response: {\n",
              "      action: 'complete',\n",
              "    }\n",
              "  };\n",
              "}\n",
              "\n",
              "scope.google = scope.google || {};\n",
              "scope.google.colab = scope.google.colab || {};\n",
              "scope.google.colab._files = {\n",
              "  _uploadFiles,\n",
              "  _uploadFilesContinue,\n",
              "};\n",
              "})(self);\n",
              "</script> "
            ]
          },
          "metadata": {}
        },
        {
          "output_type": "stream",
          "name": "stdout",
          "text": [
            "Saving HudaBeautyr_Shades.xlsx to HudaBeautyr_Shades.xlsx\n"
          ]
        }
      ],
      "source": [
        "\n",
        "from google.colab import files\n",
        "uploaded = files.upload()\n"
      ]
    },
    {
      "cell_type": "code",
      "execution_count": 2,
      "id": "49300e4e",
      "metadata": {
        "colab": {
          "base_uri": "https://localhost:8080/",
          "height": 206
        },
        "id": "49300e4e",
        "outputId": "8d03eaa5-477f-46d6-a3cf-970b51c3cc72"
      },
      "outputs": [
        {
          "output_type": "execute_result",
          "data": {
            "text/plain": [
              "  Product Type                           Product Line        Shade Name  \\\n",
              "0   Foundation  #FauxFilter Luminous Matte Foundation    Milkshake 100B   \n",
              "1   Foundation  #FauxFilter Luminous Matte Foundation   Angel Food 110N   \n",
              "2   Foundation  #FauxFilter Luminous Matte Foundation      Vanilla 120B   \n",
              "3   Foundation  #FauxFilter Luminous Matte Foundation  Panna Cotta 130G   \n",
              "4   Foundation  #FauxFilter Luminous Matte Foundation       Cashew 140G   \n",
              "\n",
              "  Undertone                    Skin Tone Description Fitzpatrick Type  \\\n",
              "0     Beige    Ultra fair skin with beige undertones                I   \n",
              "1   Neutral  Ultra fair skin with neutral undertones                I   \n",
              "2     Beige    Fair skin with pinky-beige undertones               II   \n",
              "3    Golden         Fair skin with golden undertones               II   \n",
              "4    Golden  Fair skin with peachy-golden undertones               II   \n",
              "\n",
              "  Launch Date  Average Rating  \n",
              "0  2017-10-13             4.6  \n",
              "1  2017-10-13             4.6  \n",
              "2  2017-10-13             4.6  \n",
              "3  2017-10-13             4.6  \n",
              "4  2017-10-13             4.6  "
            ],
            "text/html": [
              "\n",
              "  <div id=\"df-2e6e8912-20bd-4a9a-8a7f-0b8964a633d9\" class=\"colab-df-container\">\n",
              "    <div>\n",
              "<style scoped>\n",
              "    .dataframe tbody tr th:only-of-type {\n",
              "        vertical-align: middle;\n",
              "    }\n",
              "\n",
              "    .dataframe tbody tr th {\n",
              "        vertical-align: top;\n",
              "    }\n",
              "\n",
              "    .dataframe thead th {\n",
              "        text-align: right;\n",
              "    }\n",
              "</style>\n",
              "<table border=\"1\" class=\"dataframe\">\n",
              "  <thead>\n",
              "    <tr style=\"text-align: right;\">\n",
              "      <th></th>\n",
              "      <th>Product Type</th>\n",
              "      <th>Product Line</th>\n",
              "      <th>Shade Name</th>\n",
              "      <th>Undertone</th>\n",
              "      <th>Skin Tone Description</th>\n",
              "      <th>Fitzpatrick Type</th>\n",
              "      <th>Launch Date</th>\n",
              "      <th>Average Rating</th>\n",
              "    </tr>\n",
              "  </thead>\n",
              "  <tbody>\n",
              "    <tr>\n",
              "      <th>0</th>\n",
              "      <td>Foundation</td>\n",
              "      <td>#FauxFilter Luminous Matte Foundation</td>\n",
              "      <td>Milkshake 100B</td>\n",
              "      <td>Beige</td>\n",
              "      <td>Ultra fair skin with beige undertones</td>\n",
              "      <td>I</td>\n",
              "      <td>2017-10-13</td>\n",
              "      <td>4.6</td>\n",
              "    </tr>\n",
              "    <tr>\n",
              "      <th>1</th>\n",
              "      <td>Foundation</td>\n",
              "      <td>#FauxFilter Luminous Matte Foundation</td>\n",
              "      <td>Angel Food 110N</td>\n",
              "      <td>Neutral</td>\n",
              "      <td>Ultra fair skin with neutral undertones</td>\n",
              "      <td>I</td>\n",
              "      <td>2017-10-13</td>\n",
              "      <td>4.6</td>\n",
              "    </tr>\n",
              "    <tr>\n",
              "      <th>2</th>\n",
              "      <td>Foundation</td>\n",
              "      <td>#FauxFilter Luminous Matte Foundation</td>\n",
              "      <td>Vanilla 120B</td>\n",
              "      <td>Beige</td>\n",
              "      <td>Fair skin with pinky-beige undertones</td>\n",
              "      <td>II</td>\n",
              "      <td>2017-10-13</td>\n",
              "      <td>4.6</td>\n",
              "    </tr>\n",
              "    <tr>\n",
              "      <th>3</th>\n",
              "      <td>Foundation</td>\n",
              "      <td>#FauxFilter Luminous Matte Foundation</td>\n",
              "      <td>Panna Cotta 130G</td>\n",
              "      <td>Golden</td>\n",
              "      <td>Fair skin with golden undertones</td>\n",
              "      <td>II</td>\n",
              "      <td>2017-10-13</td>\n",
              "      <td>4.6</td>\n",
              "    </tr>\n",
              "    <tr>\n",
              "      <th>4</th>\n",
              "      <td>Foundation</td>\n",
              "      <td>#FauxFilter Luminous Matte Foundation</td>\n",
              "      <td>Cashew 140G</td>\n",
              "      <td>Golden</td>\n",
              "      <td>Fair skin with peachy-golden undertones</td>\n",
              "      <td>II</td>\n",
              "      <td>2017-10-13</td>\n",
              "      <td>4.6</td>\n",
              "    </tr>\n",
              "  </tbody>\n",
              "</table>\n",
              "</div>\n",
              "    <div class=\"colab-df-buttons\">\n",
              "\n",
              "  <div class=\"colab-df-container\">\n",
              "    <button class=\"colab-df-convert\" onclick=\"convertToInteractive('df-2e6e8912-20bd-4a9a-8a7f-0b8964a633d9')\"\n",
              "            title=\"Convert this dataframe to an interactive table.\"\n",
              "            style=\"display:none;\">\n",
              "\n",
              "  <svg xmlns=\"http://www.w3.org/2000/svg\" height=\"24px\" viewBox=\"0 -960 960 960\">\n",
              "    <path d=\"M120-120v-720h720v720H120Zm60-500h600v-160H180v160Zm220 220h160v-160H400v160Zm0 220h160v-160H400v160ZM180-400h160v-160H180v160Zm440 0h160v-160H620v160ZM180-180h160v-160H180v160Zm440 0h160v-160H620v160Z\"/>\n",
              "  </svg>\n",
              "    </button>\n",
              "\n",
              "  <style>\n",
              "    .colab-df-container {\n",
              "      display:flex;\n",
              "      gap: 12px;\n",
              "    }\n",
              "\n",
              "    .colab-df-convert {\n",
              "      background-color: #E8F0FE;\n",
              "      border: none;\n",
              "      border-radius: 50%;\n",
              "      cursor: pointer;\n",
              "      display: none;\n",
              "      fill: #1967D2;\n",
              "      height: 32px;\n",
              "      padding: 0 0 0 0;\n",
              "      width: 32px;\n",
              "    }\n",
              "\n",
              "    .colab-df-convert:hover {\n",
              "      background-color: #E2EBFA;\n",
              "      box-shadow: 0px 1px 2px rgba(60, 64, 67, 0.3), 0px 1px 3px 1px rgba(60, 64, 67, 0.15);\n",
              "      fill: #174EA6;\n",
              "    }\n",
              "\n",
              "    .colab-df-buttons div {\n",
              "      margin-bottom: 4px;\n",
              "    }\n",
              "\n",
              "    [theme=dark] .colab-df-convert {\n",
              "      background-color: #3B4455;\n",
              "      fill: #D2E3FC;\n",
              "    }\n",
              "\n",
              "    [theme=dark] .colab-df-convert:hover {\n",
              "      background-color: #434B5C;\n",
              "      box-shadow: 0px 1px 3px 1px rgba(0, 0, 0, 0.15);\n",
              "      filter: drop-shadow(0px 1px 2px rgba(0, 0, 0, 0.3));\n",
              "      fill: #FFFFFF;\n",
              "    }\n",
              "  </style>\n",
              "\n",
              "    <script>\n",
              "      const buttonEl =\n",
              "        document.querySelector('#df-2e6e8912-20bd-4a9a-8a7f-0b8964a633d9 button.colab-df-convert');\n",
              "      buttonEl.style.display =\n",
              "        google.colab.kernel.accessAllowed ? 'block' : 'none';\n",
              "\n",
              "      async function convertToInteractive(key) {\n",
              "        const element = document.querySelector('#df-2e6e8912-20bd-4a9a-8a7f-0b8964a633d9');\n",
              "        const dataTable =\n",
              "          await google.colab.kernel.invokeFunction('convertToInteractive',\n",
              "                                                    [key], {});\n",
              "        if (!dataTable) return;\n",
              "\n",
              "        const docLinkHtml = 'Like what you see? Visit the ' +\n",
              "          '<a target=\"_blank\" href=https://colab.research.google.com/notebooks/data_table.ipynb>data table notebook</a>'\n",
              "          + ' to learn more about interactive tables.';\n",
              "        element.innerHTML = '';\n",
              "        dataTable['output_type'] = 'display_data';\n",
              "        await google.colab.output.renderOutput(dataTable, element);\n",
              "        const docLink = document.createElement('div');\n",
              "        docLink.innerHTML = docLinkHtml;\n",
              "        element.appendChild(docLink);\n",
              "      }\n",
              "    </script>\n",
              "  </div>\n",
              "\n",
              "\n",
              "    <div id=\"df-5772b8a6-0178-4988-ab52-a64c285db81b\">\n",
              "      <button class=\"colab-df-quickchart\" onclick=\"quickchart('df-5772b8a6-0178-4988-ab52-a64c285db81b')\"\n",
              "                title=\"Suggest charts\"\n",
              "                style=\"display:none;\">\n",
              "\n",
              "<svg xmlns=\"http://www.w3.org/2000/svg\" height=\"24px\"viewBox=\"0 0 24 24\"\n",
              "     width=\"24px\">\n",
              "    <g>\n",
              "        <path d=\"M19 3H5c-1.1 0-2 .9-2 2v14c0 1.1.9 2 2 2h14c1.1 0 2-.9 2-2V5c0-1.1-.9-2-2-2zM9 17H7v-7h2v7zm4 0h-2V7h2v10zm4 0h-2v-4h2v4z\"/>\n",
              "    </g>\n",
              "</svg>\n",
              "      </button>\n",
              "\n",
              "<style>\n",
              "  .colab-df-quickchart {\n",
              "      --bg-color: #E8F0FE;\n",
              "      --fill-color: #1967D2;\n",
              "      --hover-bg-color: #E2EBFA;\n",
              "      --hover-fill-color: #174EA6;\n",
              "      --disabled-fill-color: #AAA;\n",
              "      --disabled-bg-color: #DDD;\n",
              "  }\n",
              "\n",
              "  [theme=dark] .colab-df-quickchart {\n",
              "      --bg-color: #3B4455;\n",
              "      --fill-color: #D2E3FC;\n",
              "      --hover-bg-color: #434B5C;\n",
              "      --hover-fill-color: #FFFFFF;\n",
              "      --disabled-bg-color: #3B4455;\n",
              "      --disabled-fill-color: #666;\n",
              "  }\n",
              "\n",
              "  .colab-df-quickchart {\n",
              "    background-color: var(--bg-color);\n",
              "    border: none;\n",
              "    border-radius: 50%;\n",
              "    cursor: pointer;\n",
              "    display: none;\n",
              "    fill: var(--fill-color);\n",
              "    height: 32px;\n",
              "    padding: 0;\n",
              "    width: 32px;\n",
              "  }\n",
              "\n",
              "  .colab-df-quickchart:hover {\n",
              "    background-color: var(--hover-bg-color);\n",
              "    box-shadow: 0 1px 2px rgba(60, 64, 67, 0.3), 0 1px 3px 1px rgba(60, 64, 67, 0.15);\n",
              "    fill: var(--button-hover-fill-color);\n",
              "  }\n",
              "\n",
              "  .colab-df-quickchart-complete:disabled,\n",
              "  .colab-df-quickchart-complete:disabled:hover {\n",
              "    background-color: var(--disabled-bg-color);\n",
              "    fill: var(--disabled-fill-color);\n",
              "    box-shadow: none;\n",
              "  }\n",
              "\n",
              "  .colab-df-spinner {\n",
              "    border: 2px solid var(--fill-color);\n",
              "    border-color: transparent;\n",
              "    border-bottom-color: var(--fill-color);\n",
              "    animation:\n",
              "      spin 1s steps(1) infinite;\n",
              "  }\n",
              "\n",
              "  @keyframes spin {\n",
              "    0% {\n",
              "      border-color: transparent;\n",
              "      border-bottom-color: var(--fill-color);\n",
              "      border-left-color: var(--fill-color);\n",
              "    }\n",
              "    20% {\n",
              "      border-color: transparent;\n",
              "      border-left-color: var(--fill-color);\n",
              "      border-top-color: var(--fill-color);\n",
              "    }\n",
              "    30% {\n",
              "      border-color: transparent;\n",
              "      border-left-color: var(--fill-color);\n",
              "      border-top-color: var(--fill-color);\n",
              "      border-right-color: var(--fill-color);\n",
              "    }\n",
              "    40% {\n",
              "      border-color: transparent;\n",
              "      border-right-color: var(--fill-color);\n",
              "      border-top-color: var(--fill-color);\n",
              "    }\n",
              "    60% {\n",
              "      border-color: transparent;\n",
              "      border-right-color: var(--fill-color);\n",
              "    }\n",
              "    80% {\n",
              "      border-color: transparent;\n",
              "      border-right-color: var(--fill-color);\n",
              "      border-bottom-color: var(--fill-color);\n",
              "    }\n",
              "    90% {\n",
              "      border-color: transparent;\n",
              "      border-bottom-color: var(--fill-color);\n",
              "    }\n",
              "  }\n",
              "</style>\n",
              "\n",
              "      <script>\n",
              "        async function quickchart(key) {\n",
              "          const quickchartButtonEl =\n",
              "            document.querySelector('#' + key + ' button');\n",
              "          quickchartButtonEl.disabled = true;  // To prevent multiple clicks.\n",
              "          quickchartButtonEl.classList.add('colab-df-spinner');\n",
              "          try {\n",
              "            const charts = await google.colab.kernel.invokeFunction(\n",
              "                'suggestCharts', [key], {});\n",
              "          } catch (error) {\n",
              "            console.error('Error during call to suggestCharts:', error);\n",
              "          }\n",
              "          quickchartButtonEl.classList.remove('colab-df-spinner');\n",
              "          quickchartButtonEl.classList.add('colab-df-quickchart-complete');\n",
              "        }\n",
              "        (() => {\n",
              "          let quickchartButtonEl =\n",
              "            document.querySelector('#df-5772b8a6-0178-4988-ab52-a64c285db81b button');\n",
              "          quickchartButtonEl.style.display =\n",
              "            google.colab.kernel.accessAllowed ? 'block' : 'none';\n",
              "        })();\n",
              "      </script>\n",
              "    </div>\n",
              "\n",
              "    </div>\n",
              "  </div>\n"
            ],
            "application/vnd.google.colaboratory.intrinsic+json": {
              "type": "dataframe",
              "variable_name": "df",
              "summary": "{\n  \"name\": \"df\",\n  \"rows\": 166,\n  \"fields\": [\n    {\n      \"column\": \"Product Type\",\n      \"properties\": {\n        \"dtype\": \"category\",\n        \"num_unique_values\": 3,\n        \"samples\": [\n          \"Foundation\",\n          \"Color Corrector\",\n          \"Concealer\"\n        ],\n        \"semantic_type\": \"\",\n        \"description\": \"\"\n      }\n    },\n    {\n      \"column\": \"Product Line\",\n      \"properties\": {\n        \"dtype\": \"category\",\n        \"num_unique_values\": 8,\n        \"samples\": [\n          \"#FauxFilter Under Eye Color Corrector\",\n          \"#FauxFilter Luminous Matte Foundation Mini\",\n          \"#FauxFilter Luminous Matte Foundation\"\n        ],\n        \"semantic_type\": \"\",\n        \"description\": \"\"\n      }\n    },\n    {\n      \"column\": \"Shade Name\",\n      \"properties\": {\n        \"dtype\": \"string\",\n        \"num_unique_values\": 118,\n        \"samples\": [\n          \"Whipped Cream 4.1G\",\n          \"Meringue 110G\",\n          \"Cashew 140G\"\n        ],\n        \"semantic_type\": \"\",\n        \"description\": \"\"\n      }\n    },\n    {\n      \"column\": \"Undertone\",\n      \"properties\": {\n        \"dtype\": \"category\",\n        \"num_unique_values\": 7,\n        \"samples\": [\n          \"Beige\",\n          \"Neutral\",\n          \"Peach\"\n        ],\n        \"semantic_type\": \"\",\n        \"description\": \"\"\n      }\n    },\n    {\n      \"column\": \"Skin Tone Description\",\n      \"properties\": {\n        \"dtype\": \"string\",\n        \"num_unique_values\": 87,\n        \"samples\": [\n          \"Medium-tan skin with pink-beige undertones\",\n          \"Ultra fair skin with beige undertones\",\n          \"Tan skin with a golden-neutral undertone\"\n        ],\n        \"semantic_type\": \"\",\n        \"description\": \"\"\n      }\n    },\n    {\n      \"column\": \"Fitzpatrick Type\",\n      \"properties\": {\n        \"dtype\": \"category\",\n        \"num_unique_values\": 10,\n        \"samples\": [\n          \"IV\\u2013V\",\n          \"II\",\n          \"VI\"\n        ],\n        \"semantic_type\": \"\",\n        \"description\": \"\"\n      }\n    },\n    {\n      \"column\": \"Launch Date\",\n      \"properties\": {\n        \"dtype\": \"object\",\n        \"num_unique_values\": 7,\n        \"samples\": [\n          \"2017-10-13\",\n          \"2023-06-01\",\n          \"2024-01-15\"\n        ],\n        \"semantic_type\": \"\",\n        \"description\": \"\"\n      }\n    },\n    {\n      \"column\": \"Average Rating\",\n      \"properties\": {\n        \"dtype\": \"number\",\n        \"std\": 0.0827004076756511,\n        \"min\": 4.5,\n        \"max\": 4.7,\n        \"num_unique_values\": 3,\n        \"samples\": [\n          4.6,\n          4.5,\n          4.7\n        ],\n        \"semantic_type\": \"\",\n        \"description\": \"\"\n      }\n    }\n  ]\n}"
            }
          },
          "metadata": {},
          "execution_count": 2
        }
      ],
      "source": [
        "\n",
        "import pandas as pd\n",
        "\n",
        "df = pd.read_excel('HudaBeautyr_Shades.xlsx')\n",
        "df.head()\n"
      ]
    },
    {
      "cell_type": "code",
      "execution_count": 3,
      "id": "19bc827b",
      "metadata": {
        "colab": {
          "base_uri": "https://localhost:8080/"
        },
        "id": "19bc827b",
        "outputId": "5bd9844a-5059-4ea4-f114-7c38d481286b"
      },
      "outputs": [
        {
          "output_type": "stream",
          "name": "stdout",
          "text": [
            "<class 'pandas.core.frame.DataFrame'>\n",
            "RangeIndex: 166 entries, 0 to 165\n",
            "Data columns (total 8 columns):\n",
            " #   Column                 Non-Null Count  Dtype  \n",
            "---  ------                 --------------  -----  \n",
            " 0   Product Type           166 non-null    object \n",
            " 1   Product Line           166 non-null    object \n",
            " 2   Shade Name             166 non-null    object \n",
            " 3   Undertone              166 non-null    object \n",
            " 4   Skin Tone Description  166 non-null    object \n",
            " 5   Fitzpatrick Type       166 non-null    object \n",
            " 6   Launch Date            166 non-null    object \n",
            " 7   Average Rating         166 non-null    float64\n",
            "dtypes: float64(1), object(7)\n",
            "memory usage: 10.5+ KB\n"
          ]
        }
      ],
      "source": [
        "\n",
        "df.info()\n"
      ]
    },
    {
      "cell_type": "code",
      "execution_count": 4,
      "id": "8527a31d",
      "metadata": {
        "colab": {
          "base_uri": "https://localhost:8080/",
          "height": 174
        },
        "id": "8527a31d",
        "outputId": "2d62b3ec-ce02-4881-bad1-d205126cb5fa"
      },
      "outputs": [
        {
          "output_type": "execute_result",
          "data": {
            "text/plain": [
              "       Product Type                           Product Line       Shade Name  \\\n",
              "count           166                                    166              166   \n",
              "unique            3                                      8              118   \n",
              "top      Foundation  #FauxFilter Luminous Matte Foundation  Angel Food 110N   \n",
              "freq            117                                     39                3   \n",
              "\n",
              "       Undertone               Skin Tone Description Fitzpatrick Type  \\\n",
              "count        166                                 166              166   \n",
              "unique         7                                  87               10   \n",
              "top       Golden  Light skin with neutral undertones               VI   \n",
              "freq          56                                   6               38   \n",
              "\n",
              "       Launch Date  \n",
              "count          166  \n",
              "unique           7  \n",
              "top     2017-10-13  \n",
              "freq            39  "
            ],
            "text/html": [
              "\n",
              "  <div id=\"df-273c669e-c80b-40f4-b14f-74162c3e43cd\" class=\"colab-df-container\">\n",
              "    <div>\n",
              "<style scoped>\n",
              "    .dataframe tbody tr th:only-of-type {\n",
              "        vertical-align: middle;\n",
              "    }\n",
              "\n",
              "    .dataframe tbody tr th {\n",
              "        vertical-align: top;\n",
              "    }\n",
              "\n",
              "    .dataframe thead th {\n",
              "        text-align: right;\n",
              "    }\n",
              "</style>\n",
              "<table border=\"1\" class=\"dataframe\">\n",
              "  <thead>\n",
              "    <tr style=\"text-align: right;\">\n",
              "      <th></th>\n",
              "      <th>Product Type</th>\n",
              "      <th>Product Line</th>\n",
              "      <th>Shade Name</th>\n",
              "      <th>Undertone</th>\n",
              "      <th>Skin Tone Description</th>\n",
              "      <th>Fitzpatrick Type</th>\n",
              "      <th>Launch Date</th>\n",
              "    </tr>\n",
              "  </thead>\n",
              "  <tbody>\n",
              "    <tr>\n",
              "      <th>count</th>\n",
              "      <td>166</td>\n",
              "      <td>166</td>\n",
              "      <td>166</td>\n",
              "      <td>166</td>\n",
              "      <td>166</td>\n",
              "      <td>166</td>\n",
              "      <td>166</td>\n",
              "    </tr>\n",
              "    <tr>\n",
              "      <th>unique</th>\n",
              "      <td>3</td>\n",
              "      <td>8</td>\n",
              "      <td>118</td>\n",
              "      <td>7</td>\n",
              "      <td>87</td>\n",
              "      <td>10</td>\n",
              "      <td>7</td>\n",
              "    </tr>\n",
              "    <tr>\n",
              "      <th>top</th>\n",
              "      <td>Foundation</td>\n",
              "      <td>#FauxFilter Luminous Matte Foundation</td>\n",
              "      <td>Angel Food 110N</td>\n",
              "      <td>Golden</td>\n",
              "      <td>Light skin with neutral undertones</td>\n",
              "      <td>VI</td>\n",
              "      <td>2017-10-13</td>\n",
              "    </tr>\n",
              "    <tr>\n",
              "      <th>freq</th>\n",
              "      <td>117</td>\n",
              "      <td>39</td>\n",
              "      <td>3</td>\n",
              "      <td>56</td>\n",
              "      <td>6</td>\n",
              "      <td>38</td>\n",
              "      <td>39</td>\n",
              "    </tr>\n",
              "  </tbody>\n",
              "</table>\n",
              "</div>\n",
              "    <div class=\"colab-df-buttons\">\n",
              "\n",
              "  <div class=\"colab-df-container\">\n",
              "    <button class=\"colab-df-convert\" onclick=\"convertToInteractive('df-273c669e-c80b-40f4-b14f-74162c3e43cd')\"\n",
              "            title=\"Convert this dataframe to an interactive table.\"\n",
              "            style=\"display:none;\">\n",
              "\n",
              "  <svg xmlns=\"http://www.w3.org/2000/svg\" height=\"24px\" viewBox=\"0 -960 960 960\">\n",
              "    <path d=\"M120-120v-720h720v720H120Zm60-500h600v-160H180v160Zm220 220h160v-160H400v160Zm0 220h160v-160H400v160ZM180-400h160v-160H180v160Zm440 0h160v-160H620v160ZM180-180h160v-160H180v160Zm440 0h160v-160H620v160Z\"/>\n",
              "  </svg>\n",
              "    </button>\n",
              "\n",
              "  <style>\n",
              "    .colab-df-container {\n",
              "      display:flex;\n",
              "      gap: 12px;\n",
              "    }\n",
              "\n",
              "    .colab-df-convert {\n",
              "      background-color: #E8F0FE;\n",
              "      border: none;\n",
              "      border-radius: 50%;\n",
              "      cursor: pointer;\n",
              "      display: none;\n",
              "      fill: #1967D2;\n",
              "      height: 32px;\n",
              "      padding: 0 0 0 0;\n",
              "      width: 32px;\n",
              "    }\n",
              "\n",
              "    .colab-df-convert:hover {\n",
              "      background-color: #E2EBFA;\n",
              "      box-shadow: 0px 1px 2px rgba(60, 64, 67, 0.3), 0px 1px 3px 1px rgba(60, 64, 67, 0.15);\n",
              "      fill: #174EA6;\n",
              "    }\n",
              "\n",
              "    .colab-df-buttons div {\n",
              "      margin-bottom: 4px;\n",
              "    }\n",
              "\n",
              "    [theme=dark] .colab-df-convert {\n",
              "      background-color: #3B4455;\n",
              "      fill: #D2E3FC;\n",
              "    }\n",
              "\n",
              "    [theme=dark] .colab-df-convert:hover {\n",
              "      background-color: #434B5C;\n",
              "      box-shadow: 0px 1px 3px 1px rgba(0, 0, 0, 0.15);\n",
              "      filter: drop-shadow(0px 1px 2px rgba(0, 0, 0, 0.3));\n",
              "      fill: #FFFFFF;\n",
              "    }\n",
              "  </style>\n",
              "\n",
              "    <script>\n",
              "      const buttonEl =\n",
              "        document.querySelector('#df-273c669e-c80b-40f4-b14f-74162c3e43cd button.colab-df-convert');\n",
              "      buttonEl.style.display =\n",
              "        google.colab.kernel.accessAllowed ? 'block' : 'none';\n",
              "\n",
              "      async function convertToInteractive(key) {\n",
              "        const element = document.querySelector('#df-273c669e-c80b-40f4-b14f-74162c3e43cd');\n",
              "        const dataTable =\n",
              "          await google.colab.kernel.invokeFunction('convertToInteractive',\n",
              "                                                    [key], {});\n",
              "        if (!dataTable) return;\n",
              "\n",
              "        const docLinkHtml = 'Like what you see? Visit the ' +\n",
              "          '<a target=\"_blank\" href=https://colab.research.google.com/notebooks/data_table.ipynb>data table notebook</a>'\n",
              "          + ' to learn more about interactive tables.';\n",
              "        element.innerHTML = '';\n",
              "        dataTable['output_type'] = 'display_data';\n",
              "        await google.colab.output.renderOutput(dataTable, element);\n",
              "        const docLink = document.createElement('div');\n",
              "        docLink.innerHTML = docLinkHtml;\n",
              "        element.appendChild(docLink);\n",
              "      }\n",
              "    </script>\n",
              "  </div>\n",
              "\n",
              "\n",
              "    <div id=\"df-8fcb1650-55d8-4a25-8b4b-4df9bd7ed6e3\">\n",
              "      <button class=\"colab-df-quickchart\" onclick=\"quickchart('df-8fcb1650-55d8-4a25-8b4b-4df9bd7ed6e3')\"\n",
              "                title=\"Suggest charts\"\n",
              "                style=\"display:none;\">\n",
              "\n",
              "<svg xmlns=\"http://www.w3.org/2000/svg\" height=\"24px\"viewBox=\"0 0 24 24\"\n",
              "     width=\"24px\">\n",
              "    <g>\n",
              "        <path d=\"M19 3H5c-1.1 0-2 .9-2 2v14c0 1.1.9 2 2 2h14c1.1 0 2-.9 2-2V5c0-1.1-.9-2-2-2zM9 17H7v-7h2v7zm4 0h-2V7h2v10zm4 0h-2v-4h2v4z\"/>\n",
              "    </g>\n",
              "</svg>\n",
              "      </button>\n",
              "\n",
              "<style>\n",
              "  .colab-df-quickchart {\n",
              "      --bg-color: #E8F0FE;\n",
              "      --fill-color: #1967D2;\n",
              "      --hover-bg-color: #E2EBFA;\n",
              "      --hover-fill-color: #174EA6;\n",
              "      --disabled-fill-color: #AAA;\n",
              "      --disabled-bg-color: #DDD;\n",
              "  }\n",
              "\n",
              "  [theme=dark] .colab-df-quickchart {\n",
              "      --bg-color: #3B4455;\n",
              "      --fill-color: #D2E3FC;\n",
              "      --hover-bg-color: #434B5C;\n",
              "      --hover-fill-color: #FFFFFF;\n",
              "      --disabled-bg-color: #3B4455;\n",
              "      --disabled-fill-color: #666;\n",
              "  }\n",
              "\n",
              "  .colab-df-quickchart {\n",
              "    background-color: var(--bg-color);\n",
              "    border: none;\n",
              "    border-radius: 50%;\n",
              "    cursor: pointer;\n",
              "    display: none;\n",
              "    fill: var(--fill-color);\n",
              "    height: 32px;\n",
              "    padding: 0;\n",
              "    width: 32px;\n",
              "  }\n",
              "\n",
              "  .colab-df-quickchart:hover {\n",
              "    background-color: var(--hover-bg-color);\n",
              "    box-shadow: 0 1px 2px rgba(60, 64, 67, 0.3), 0 1px 3px 1px rgba(60, 64, 67, 0.15);\n",
              "    fill: var(--button-hover-fill-color);\n",
              "  }\n",
              "\n",
              "  .colab-df-quickchart-complete:disabled,\n",
              "  .colab-df-quickchart-complete:disabled:hover {\n",
              "    background-color: var(--disabled-bg-color);\n",
              "    fill: var(--disabled-fill-color);\n",
              "    box-shadow: none;\n",
              "  }\n",
              "\n",
              "  .colab-df-spinner {\n",
              "    border: 2px solid var(--fill-color);\n",
              "    border-color: transparent;\n",
              "    border-bottom-color: var(--fill-color);\n",
              "    animation:\n",
              "      spin 1s steps(1) infinite;\n",
              "  }\n",
              "\n",
              "  @keyframes spin {\n",
              "    0% {\n",
              "      border-color: transparent;\n",
              "      border-bottom-color: var(--fill-color);\n",
              "      border-left-color: var(--fill-color);\n",
              "    }\n",
              "    20% {\n",
              "      border-color: transparent;\n",
              "      border-left-color: var(--fill-color);\n",
              "      border-top-color: var(--fill-color);\n",
              "    }\n",
              "    30% {\n",
              "      border-color: transparent;\n",
              "      border-left-color: var(--fill-color);\n",
              "      border-top-color: var(--fill-color);\n",
              "      border-right-color: var(--fill-color);\n",
              "    }\n",
              "    40% {\n",
              "      border-color: transparent;\n",
              "      border-right-color: var(--fill-color);\n",
              "      border-top-color: var(--fill-color);\n",
              "    }\n",
              "    60% {\n",
              "      border-color: transparent;\n",
              "      border-right-color: var(--fill-color);\n",
              "    }\n",
              "    80% {\n",
              "      border-color: transparent;\n",
              "      border-right-color: var(--fill-color);\n",
              "      border-bottom-color: var(--fill-color);\n",
              "    }\n",
              "    90% {\n",
              "      border-color: transparent;\n",
              "      border-bottom-color: var(--fill-color);\n",
              "    }\n",
              "  }\n",
              "</style>\n",
              "\n",
              "      <script>\n",
              "        async function quickchart(key) {\n",
              "          const quickchartButtonEl =\n",
              "            document.querySelector('#' + key + ' button');\n",
              "          quickchartButtonEl.disabled = true;  // To prevent multiple clicks.\n",
              "          quickchartButtonEl.classList.add('colab-df-spinner');\n",
              "          try {\n",
              "            const charts = await google.colab.kernel.invokeFunction(\n",
              "                'suggestCharts', [key], {});\n",
              "          } catch (error) {\n",
              "            console.error('Error during call to suggestCharts:', error);\n",
              "          }\n",
              "          quickchartButtonEl.classList.remove('colab-df-spinner');\n",
              "          quickchartButtonEl.classList.add('colab-df-quickchart-complete');\n",
              "        }\n",
              "        (() => {\n",
              "          let quickchartButtonEl =\n",
              "            document.querySelector('#df-8fcb1650-55d8-4a25-8b4b-4df9bd7ed6e3 button');\n",
              "          quickchartButtonEl.style.display =\n",
              "            google.colab.kernel.accessAllowed ? 'block' : 'none';\n",
              "        })();\n",
              "      </script>\n",
              "    </div>\n",
              "\n",
              "    </div>\n",
              "  </div>\n"
            ],
            "application/vnd.google.colaboratory.intrinsic+json": {
              "type": "dataframe",
              "summary": "{\n  \"name\": \"df\",\n  \"rows\": 4,\n  \"fields\": [\n    {\n      \"column\": \"Product Type\",\n      \"properties\": {\n        \"dtype\": \"string\",\n        \"num_unique_values\": 4,\n        \"samples\": [\n          3,\n          \"117\",\n          \"166\"\n        ],\n        \"semantic_type\": \"\",\n        \"description\": \"\"\n      }\n    },\n    {\n      \"column\": \"Product Line\",\n      \"properties\": {\n        \"dtype\": \"string\",\n        \"num_unique_values\": 4,\n        \"samples\": [\n          8,\n          \"39\",\n          \"166\"\n        ],\n        \"semantic_type\": \"\",\n        \"description\": \"\"\n      }\n    },\n    {\n      \"column\": \"Shade Name\",\n      \"properties\": {\n        \"dtype\": \"string\",\n        \"num_unique_values\": 4,\n        \"samples\": [\n          118,\n          \"3\",\n          \"166\"\n        ],\n        \"semantic_type\": \"\",\n        \"description\": \"\"\n      }\n    },\n    {\n      \"column\": \"Undertone\",\n      \"properties\": {\n        \"dtype\": \"string\",\n        \"num_unique_values\": 4,\n        \"samples\": [\n          7,\n          \"56\",\n          \"166\"\n        ],\n        \"semantic_type\": \"\",\n        \"description\": \"\"\n      }\n    },\n    {\n      \"column\": \"Skin Tone Description\",\n      \"properties\": {\n        \"dtype\": \"string\",\n        \"num_unique_values\": 4,\n        \"samples\": [\n          87,\n          \"6\",\n          \"166\"\n        ],\n        \"semantic_type\": \"\",\n        \"description\": \"\"\n      }\n    },\n    {\n      \"column\": \"Fitzpatrick Type\",\n      \"properties\": {\n        \"dtype\": \"string\",\n        \"num_unique_values\": 4,\n        \"samples\": [\n          10,\n          \"38\",\n          \"166\"\n        ],\n        \"semantic_type\": \"\",\n        \"description\": \"\"\n      }\n    },\n    {\n      \"column\": \"Launch Date\",\n      \"properties\": {\n        \"dtype\": \"date\",\n        \"min\": \"1970-01-01 00:00:00.000000007\",\n        \"max\": \"2017-10-13 00:00:00\",\n        \"num_unique_values\": 4,\n        \"samples\": [\n          7,\n          \"39\",\n          \"166\"\n        ],\n        \"semantic_type\": \"\",\n        \"description\": \"\"\n      }\n    }\n  ]\n}"
            }
          },
          "metadata": {},
          "execution_count": 4
        }
      ],
      "source": [
        "\n",
        "df.describe()\n",
        "\n",
        "\n",
        "df.describe(include=['object'])\n",
        "\n"
      ]
    },
    {
      "cell_type": "markdown",
      "id": "eebbe4db",
      "metadata": {
        "id": "eebbe4db"
      },
      "source": [
        "\n",
        "##  Exploratory Data Analysis (EDA)\n",
        "\n",
        "This section explores the shade distribution across different features, including:\n",
        "- Fitzpatrick skin types\n",
        "- Undertones\n",
        "- Product lines\n",
        "- Launch dates\n",
        "- Average product ratings\n",
        "\n",
        "Visualizing this data helps reveal patterns and potential gaps in Huda Beauty’s inclusivity efforts before applying formal statistical tests.\n"
      ]
    },
    {
      "cell_type": "code",
      "execution_count": 5,
      "id": "fbd53606",
      "metadata": {
        "colab": {
          "base_uri": "https://localhost:8080/",
          "height": 505
        },
        "id": "fbd53606",
        "outputId": "c6ff0eec-69ad-43eb-ae8d-b94dee8c1821"
      },
      "outputs": [
        {
          "output_type": "execute_result",
          "data": {
            "text/plain": [
              "<Axes: title={'center': 'Shade Count by Fitzpatrick Type'}, xlabel='Fitzpatrick Type'>"
            ]
          },
          "metadata": {},
          "execution_count": 5
        },
        {
          "output_type": "display_data",
          "data": {
            "text/plain": [
              "<Figure size 640x480 with 1 Axes>"
            ],
            "image/png": "[encoded data removed]"
          },
          "metadata": {}
        }
      ],
      "source": [
        "df['Fitzpatrick Type'].value_counts().sort_index().plot(kind='bar', title=\"Shade Count by Fitzpatrick Type\")\n",
        "\n"
      ]
    },
    {
      "cell_type": "code",
      "execution_count": 6,
      "id": "d26c2a05",
      "metadata": {
        "colab": {
          "base_uri": "https://localhost:8080/",
          "height": 482
        },
        "id": "d26c2a05",
        "outputId": "315e5ac5-135a-4214-86b6-dca658d9b3bf"
      },
      "outputs": [
        {
          "output_type": "execute_result",
          "data": {
            "text/plain": [
              "<Axes: xlabel='Fitzpatrick Type'>"
            ]
          },
          "metadata": {},
          "execution_count": 6
        },
        {
          "output_type": "display_data",
          "data": {
            "text/plain": [
              "<Figure size 640x480 with 1 Axes>"
            ],
            "image/png": "[encoded data removed]"
          },
          "metadata": {}
        }
      ],
      "source": [
        "\n",
        "pd.crosstab(df['Fitzpatrick Type'], df['Undertone']).plot(kind='bar', stacked=True)\n"
      ]
    },
    {
      "cell_type": "code",
      "execution_count": 7,
      "id": "aHv9p-BrUbrx",
      "metadata": {
        "colab": {
          "base_uri": "https://localhost:8080/",
          "height": 469
        },
        "id": "aHv9p-BrUbrx",
        "outputId": "3257372c-7fa8-412c-a761-0d8e1bfd394b"
      },
      "outputs": [
        {
          "output_type": "execute_result",
          "data": {
            "text/plain": [
              "<Axes: title={'center': 'Shade Count by Product Line'}, ylabel='Product Line'>"
            ]
          },
          "metadata": {},
          "execution_count": 7
        },
        {
          "output_type": "display_data",
          "data": {
            "text/plain": [
              "<Figure size 640x480 with 1 Axes>"
            ],
            "image/png": "[encoded data removed]"
          },
          "metadata": {}
        }
      ],
      "source": [
        "df['Product Line'].value_counts().plot(kind='barh', title=\"Shade Count by Product Line\")\n"
      ]
    },
    {
      "cell_type": "markdown",
      "id": "9d6cd146",
      "metadata": {
        "id": "9d6cd146"
      },
      "source": [
        "\n",
        "##  Hypothesis Testing: Shade Inclusivity\n",
        "\n",
        "To evaluate inclusivity in Huda Beauty's complexion products, we formulate the following hypothesis:\n",
        "\n",
        "- **Null Hypothesis (H₀):** Shades are evenly distributed across all Fitzpatrick skin types.\n",
        "- **Alternative Hypothesis (H₁):** Some Fitzpatrick types are underrepresented in the shade distribution.\n",
        "\n",
        "We use a **Chi-Square Goodness-of-Fit test** to statistically determine if the distribution of shades significantly differs from a uniform distribution.\n",
        "\n",
        "If the p-value is **less than 0.05**, we reject the null hypothesis and conclude that shade inclusivity is **not uniform**.\n"
      ]
    },
    {
      "cell_type": "code",
      "execution_count": 8,
      "id": "d8f1ed41",
      "metadata": {
        "colab": {
          "base_uri": "https://localhost:8080/"
        },
        "id": "d8f1ed41",
        "outputId": "a18ce825-d4c9-41ae-9179-a69f100b05ff"
      },
      "outputs": [
        {
          "output_type": "stream",
          "name": "stdout",
          "text": [
            "Chi-square test statistic: 141.71, p-value: 0.0000\n",
            "Reject the null hypothesis — the shade distribution is not uniform.\n"
          ]
        }
      ],
      "source": [
        "\n",
        "from scipy.stats import chisquare\n",
        "\n",
        "counts = df['Fitzpatrick Type'].value_counts().sort_index()\n",
        "stat, p = chisquare(counts)\n",
        "\n",
        "print(f\"Chi-square test statistic: {stat:.2f}, p-value: {p:.4f}\")\n",
        "if p < 0.05:\n",
        "    print(\"Reject the null hypothesis — the shade distribution is not uniform.\")\n",
        "else:\n",
        "    print(\"Fail to reject the null hypothesis — shade distribution appears uniform.\")\n"
      ]
    },
    {
      "cell_type": "markdown",
      "id": "522da265",
      "metadata": {
        "id": "522da265"
      },
      "source": [
        "\n",
        "###  Interpretation\n",
        "\n",
        "Based on the chi-square test results:\n",
        "- If `p < 0.05`: There is a statistically significant imbalance in shade representation across skin types.\n",
        "- If `p ≥ 0.05`: No significant evidence of imbalance — shades may be evenly distributed.\n",
        "\n",
        "This supports or challenges Huda Beauty’s inclusivity claims from a data-driven perspective.\n"
      ]
    },
    {
      "cell_type": "markdown",
      "id": "WehnoctMW5MO",
      "metadata": {
        "id": "WehnoctMW5MO"
      },
      "source": [
        "##  Shade Range Evolution Over Time\n",
        "\n",
        "In this section, we analyze how Huda Beauty's shade inclusivity has evolved over time. We aim to answer:\n",
        "\n",
        "- How has the **total number of shades** changed with each product launch year?\n",
        "- Has there been an increase in **diverse skin tone representation** over time?\n",
        "- Are **recent launches** (e.g., post-2020) more inclusive across Fitzpatrick skin types than older ones?\n",
        "\n",
        "This allows us to measure whether inclusivity is increasing — not just claimed in marketing but reflected in actual product ranges.\n"
      ]
    },
    {
      "cell_type": "code",
      "execution_count": 9,
      "id": "ybjZeJVxXB3T",
      "metadata": {
        "id": "ybjZeJVxXB3T"
      },
      "outputs": [],
      "source": [
        "\n",
        "df['Launch Date'] = pd.to_datetime(df['Launch Date'])\n",
        "\n",
        "\n",
        "df['Launch Year'] = df['Launch Date'].dt.year\n"
      ]
    },
    {
      "cell_type": "code",
      "execution_count": 10,
      "id": "C6Eb42_NXIVl",
      "metadata": {
        "colab": {
          "base_uri": "https://localhost:8080/",
          "height": 564
        },
        "id": "C6Eb42_NXIVl",
        "outputId": "d5c17c60-3482-4393-adb3-e3ffd9af9503"
      },
      "outputs": [
        {
          "output_type": "display_data",
          "data": {
            "text/plain": [
              "<Figure size 1000x600 with 1 Axes>"
            ],
            "image/png": "[encoded data removed]"
          },
          "metadata": {}
        }
      ],
      "source": [
        "import matplotlib.pyplot as plt\n",
        "import seaborn as sns\n",
        "\n",
        "plt.figure(figsize=(10,6))\n",
        "sns.countplot(x='Launch Year', data=df)\n",
        "plt.title(\"Total Shade Count by Launch Year\")\n",
        "plt.xlabel(\"Year\")\n",
        "plt.ylabel(\"Number of Shades\")\n",
        "plt.grid(True)\n",
        "plt.show()\n"
      ]
    },
    {
      "cell_type": "code",
      "execution_count": 11,
      "id": "tlDm4fnzXLtY",
      "metadata": {
        "colab": {
          "base_uri": "https://localhost:8080/",
          "height": 607
        },
        "id": "tlDm4fnzXLtY",
        "outputId": "0c8e2378-5035-49c7-83ce-5ecd2e1e164e"
      },
      "outputs": [
        {
          "output_type": "display_data",
          "data": {
            "text/plain": [
              "<Figure size 1200x600 with 1 Axes>"
            ],
            "image/png": "[encoded data removed]"
          },
          "metadata": {}
        }
      ],
      "source": [
        "plt.figure(figsize=(12, 6))\n",
        "sns.countplot(x='Launch Year', hue='Fitzpatrick Type', data=df,\n",
        "              order=sorted(df['Launch Year'].unique()))\n",
        "plt.title(\"Shade Distribution by Fitzpatrick Type Over Time\")\n",
        "plt.xlabel(\"Launch Year\")\n",
        "plt.ylabel(\"Number of Shades\")\n",
        "plt.legend(title=\"Fitzpatrick Type\", bbox_to_anchor=(1.05, 1), loc='upper left')\n",
        "plt.tight_layout()\n",
        "plt.grid(axis='y')\n",
        "plt.show()\n"
      ]
    },
    {
      "cell_type": "code",
      "execution_count": 12,
      "id": "csA06C77XQt8",
      "metadata": {
        "id": "csA06C77XQt8"
      },
      "outputs": [],
      "source": [
        "df['Launch Period'] = df['Launch Year'].apply(lambda x: 'Older' if x < 2021 else 'Recent')\n"
      ]
    },
    {
      "cell_type": "code",
      "execution_count": 13,
      "id": "0oQ9UNcIXa8c",
      "metadata": {
        "colab": {
          "base_uri": "https://localhost:8080/",
          "height": 1000
        },
        "id": "0oQ9UNcIXa8c",
        "outputId": "c40397cc-634b-46bf-c912-b460fb5e682c"
      },
      "outputs": [
        {
          "output_type": "display_data",
          "data": {
            "text/plain": [
              "<Figure size 640x480 with 1 Axes>"
            ],
            "image/png": "[encoded data removed]"
          },
          "metadata": {}
        },
        {
          "output_type": "display_data",
          "data": {
            "text/plain": [
              "<Figure size 1000x600 with 1 Axes>"
            ],
            "image/png": "[encoded data removed]"
          },
          "metadata": {}
        }
      ],
      "source": [
        "\n",
        "df['Launch Period'].value_counts().plot(kind='bar', title='Shades by Launch Period')\n",
        "plt.show()\n",
        "\n",
        "\n",
        "pd.crosstab(df['Launch Period'], df['Fitzpatrick Type']).plot(kind='bar', stacked=True, figsize=(10,6))\n",
        "plt.title(\"Skin Type Distribution: Older vs Recent Launches\")\n",
        "plt.ylabel(\"Number of Shades\")\n",
        "plt.grid(axis='y')\n",
        "plt.show()\n"
      ]
    },
    {
      "cell_type": "markdown",
      "id": "uRG7n7z8XzJq",
      "metadata": {
        "id": "uRG7n7z8XzJq"
      },
      "source": [
        "## Interpretation: Shade Inclusivity Over Time\n",
        "\n",
        "The visualizations reveal clear trends in how Huda Beauty’s complexion product launches have evolved in terms of inclusivity.\n",
        "\n",
        "### Launch Volume Over Time:\n",
        "Recent years (2021–2024) show a notable increase in the number of shade releases, suggesting Huda Beauty is expanding its product range more aggressively now than during earlier launches (e.g., 2017–2019).\n",
        "\n",
        "### Skin Tone Representation:\n",
        "Darker skin tones (Fitzpatrick Types V and VI) are consistently represented across product lines, and their presence has even increased in more recent releases.\n",
        "\n",
        "However, mid-tone shades (Types III and IV) remain slightly less represented compared to extremes (very fair or very deep tones), which may point to an unintentional gap in middle-range inclusivity.\n",
        "\n",
        "### Older vs. Recent Launches:\n",
        "When grouped into Older (pre-2021) and Recent (2021–present), we see that recent launches are:\n",
        "- More balanced across all skin types\n",
        "- Include a wider range of undertones\n",
        "- Have a slightly higher average rating, suggesting better user satisfaction or improved formulation\n",
        "\n",
        "This trend supports the hypothesis that Huda Beauty has become more inclusive over time, not only expanding its shade ranges but also improving the distribution of those shades across diverse skin tones.\n",
        "\n",
        "### Conclusion:\n",
        "While there is always room for improvement in mid-tone representation, the data indicates a positive trajectory toward greater shade inclusivity in recent product development efforts.\n"
      ]
    },
    {
      "cell_type": "markdown",
      "id": "cb31bd6e",
      "metadata": {
        "id": "cb31bd6e"
      },
      "source": [
        "##  NLP-Based Prediction: Can Language Predict Inclusivity?\n",
        "In this section, we use only **textual information** — shade names and skin tone descriptions — to predict whether a product is inclusive (Fitzpatrick IV–VI).\n",
        "\n",
        "This approach evaluates how much **marketing language** aligns with actual tone inclusivity. We apply **TF-IDF vectorization** and train a **Logistic Regression** model."
      ]
    },
    {
      "cell_type": "code",
      "execution_count": 14,
      "id": "c3f2dbdf",
      "metadata": {
        "colab": {
          "base_uri": "https://localhost:8080/",
          "height": 241
        },
        "id": "c3f2dbdf",
        "outputId": "23a80780-ff38-4a57-ace3-54a59a64a6d6"
      },
      "outputs": [
        {
          "output_type": "execute_result",
          "data": {
            "text/plain": [
              "0    milkshake 100b ultra fair skin with beige unde...\n",
              "1    angel food 110n ultra fair skin with neutral u...\n",
              "2    vanilla 120b fair skin with pinky-beige undert...\n",
              "3    panna cotta 130g fair skin with golden undertones\n",
              "4    cashew 140g fair skin with peachy-golden under...\n",
              "Name: text, dtype: object"
            ],
            "text/html": [
              "<div>\n",
              "<style scoped>\n",
              "    .dataframe tbody tr th:only-of-type {\n",
              "        vertical-align: middle;\n",
              "    }\n",
              "\n",
              "    .dataframe tbody tr th {\n",
              "        vertical-align: top;\n",
              "    }\n",
              "\n",
              "    .dataframe thead th {\n",
              "        text-align: right;\n",
              "    }\n",
              "</style>\n",
              "<table border=\"1\" class=\"dataframe\">\n",
              "  <thead>\n",
              "    <tr style=\"text-align: right;\">\n",
              "      <th></th>\n",
              "      <th>text</th>\n",
              "    </tr>\n",
              "  </thead>\n",
              "  <tbody>\n",
              "    <tr>\n",
              "      <th>0</th>\n",
              "      <td>milkshake 100b ultra fair skin with beige unde...</td>\n",
              "    </tr>\n",
              "    <tr>\n",
              "      <th>1</th>\n",
              "      <td>angel food 110n ultra fair skin with neutral u...</td>\n",
              "    </tr>\n",
              "    <tr>\n",
              "      <th>2</th>\n",
              "      <td>vanilla 120b fair skin with pinky-beige undert...</td>\n",
              "    </tr>\n",
              "    <tr>\n",
              "      <th>3</th>\n",
              "      <td>panna cotta 130g fair skin with golden undertones</td>\n",
              "    </tr>\n",
              "    <tr>\n",
              "      <th>4</th>\n",
              "      <td>cashew 140g fair skin with peachy-golden under...</td>\n",
              "    </tr>\n",
              "  </tbody>\n",
              "</table>\n",
              "</div><br><label><b>dtype:</b> object</label>"
            ]
          },
          "metadata": {},
          "execution_count": 14
        }
      ],
      "source": [
        "\n",
        "df['text'] = df['Shade Name'].astype(str) + ' ' + df['Skin Tone Description'].astype(str)\n",
        "df['text'] = df['text'].str.lower().fillna('')\n",
        "df['text'].head()"
      ]
    },
    {
      "cell_type": "code",
      "execution_count": 15,
      "id": "5ae09570",
      "metadata": {
        "colab": {
          "base_uri": "https://localhost:8080/"
        },
        "id": "5ae09570",
        "outputId": "4384e360-b997-42fa-b997-a6227fdb9c0a"
      },
      "outputs": [
        {
          "output_type": "execute_result",
          "data": {
            "text/plain": [
              "(166, 211)"
            ]
          },
          "metadata": {},
          "execution_count": 15
        }
      ],
      "source": [
        "\n",
        "from sklearn.feature_extraction.text import TfidfVectorizer\n",
        "\n",
        "vectorizer = TfidfVectorizer(stop_words='english', max_features=1000)\n",
        "X_text = vectorizer.fit_transform(df['text'])\n",
        "X_text.shape"
      ]
    },
    {
      "cell_type": "code",
      "execution_count": 17,
      "id": "49a99909",
      "metadata": {
        "id": "49a99909"
      },
      "outputs": [],
      "source": [
        "\n",
        "from sklearn.model_selection import train_test_split\n",
        "df[\"inclusive\"] = df[\"Fitzpatrick Type\"].apply(lambda x: 1 if str(x).strip().upper() in ['IV', 'V', 'VI'] else 0)\n",
        "\n",
        "y = df['inclusive']\n",
        "X_train, X_test, y_train, y_test = train_test_split(X_text, y, test_size=0.2, random_state=42)"
      ]
    },
    {
      "cell_type": "code",
      "execution_count": 18,
      "id": "fe308f2b",
      "metadata": {
        "colab": {
          "base_uri": "https://localhost:8080/"
        },
        "id": "fe308f2b",
        "outputId": "756ac127-9fc5-436f-8cd5-a019d438ec05"
      },
      "outputs": [
        {
          "output_type": "stream",
          "name": "stdout",
          "text": [
            "              precision    recall  f1-score   support\n",
            "\n",
            "           0       1.00      1.00      1.00        11\n",
            "           1       1.00      1.00      1.00        23\n",
            "\n",
            "    accuracy                           1.00        34\n",
            "   macro avg       1.00      1.00      1.00        34\n",
            "weighted avg       1.00      1.00      1.00        34\n",
            "\n"
          ]
        }
      ],
      "source": [
        "\n",
        "from sklearn.linear_model import LogisticRegression\n",
        "from sklearn.metrics import classification_report\n",
        "\n",
        "model = LogisticRegression()\n",
        "model.fit(X_train, y_train)\n",
        "y_pred = model.predict(X_test)\n",
        "print(classification_report(y_test, y_pred))"
      ]
    },
    {
      "cell_type": "code",
      "execution_count": 19,
      "id": "ccff0aaf",
      "metadata": {
        "colab": {
          "base_uri": "https://localhost:8080/"
        },
        "id": "ccff0aaf",
        "outputId": "e390a3d5-02e8-4283-dc0f-dc9036646f10"
      },
      "outputs": [
        {
          "output_type": "stream",
          "name": "stdout",
          "text": [
            "Top words indicating inclusive shades:\n",
            "['baklava', 'pink', 'butterscotch', 'cinnamon', 'deepest', 'undertone', 'red', 'deep', 'rich', 'tan']\n",
            "Top words indicating not inclusive shades:\n",
            "['light', 'fair', 'ultra', 'custard', 'pinky', 'orange', 'tones', 'macaroon', 'vanilla', 'meringue']\n"
          ]
        }
      ],
      "source": [
        "\n",
        "import numpy as np\n",
        "\n",
        "feature_names = vectorizer.get_feature_names_out()\n",
        "coeffs = model.coef_[0]\n",
        "top_positive = np.argsort(coeffs)[-10:]\n",
        "top_negative = np.argsort(coeffs)[:10]\n",
        "\n",
        "print(\"Top words indicating inclusive shades:\")\n",
        "print([feature_names[i] for i in top_positive])\n",
        "\n",
        "print(\"Top words indicating not inclusive shades:\")\n",
        "print([feature_names[i] for i in top_negative])"
      ]
    },
    {
      "cell_type": "markdown",
      "id": "12fd9e22",
      "metadata": {
        "id": "12fd9e22"
      },
      "source": [
        "## Final Conclusion\n",
        "The logistic regression model trained on shade names and tone descriptions achieved 100% accuracy, precision, and recall on the test set. This shows that the language used in product naming and descriptions strongly correlates with shade inclusivity (Fitzpatrick Types IV–VI).\n",
        "## Key Findings:\n",
        "Words like “deep,” “rich,” “red,” “tan,” and “butterscotch” were among the most predictive of inclusive shades. These words often appear in products meant for deeper skin tones.\n",
        "\n",
        "In contrast, words like “fair,” “vanilla,” “ultra,” “light,” and “pinky” were strong indicators of non-inclusive shades, commonly associated with lighter skin tones.\n",
        "\n",
        "## Interpretation:\n",
        "This suggests that textual language alone — even without any color codes or numerical features — can effectively predict whether a product serves deeper skin tones. It highlights how marketing language can reflect or even reinforce product biases."
      ]
    }
  ],
  "metadata": {
    "colab": {
      "provenance": []
    },
    "kernelspec": {
      "display_name": "Python 3",
      "name": "python3"
    },
    "language_info": {
      "name": "python"
    }
  },
  "nbformat": 4,
  "nbformat_minor": 5
}